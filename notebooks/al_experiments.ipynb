{
 "cells": [
  {
   "cell_type": "markdown",
   "id": "f1cf7806-b886-42fb-add8-263d4718c52f",
   "metadata": {},
   "source": [
    "1. Pick a Potsdam scene\n",
    "2. Pick a class\n",
    "3. Define raster source\n",
    "4. Define label source such that there are only 2 classes\n",
    "5. Define a pre-labeled AOI\n",
    "5. Define a DataConfig\n",
    "6. Define a LearnerConfig\n",
    "7. Instantiate a Learner\n",
    "8. Train on scene\n",
    "9. Predict on scene\n",
    "10. Use probability raster to compute task priority scores\n",
    "11. Use scores to select tasks to \"label\"\n",
    "12. Add the newly \"labeled\" tasks to the AOI\n",
    "13. Got to 5"
   ]
  },
  {
   "cell_type": "code",
   "execution_count": 1,
   "id": "424bcc8f-50fe-4344-afd2-4423d5059dfc",
   "metadata": {},
   "outputs": [
    {
     "name": "stdout",
     "output_type": "stream",
     "text": [
      "Collecting geopandas\n",
      "  Downloading geopandas-0.10.2-py2.py3-none-any.whl (1.0 MB)\n",
      "     |████████████████████████████████| 1.0 MB 579 kB/s            \n",
      "\u001b[?25hRequirement already satisfied: pandas>=0.25.0 in /opt/conda/lib/python3.7/site-packages (from geopandas) (1.3.5)\n",
      "Requirement already satisfied: shapely>=1.6 in /opt/conda/lib/python3.7/site-packages (from geopandas) (1.6.4.post2)\n",
      "Collecting fiona>=1.8\n",
      "  Downloading Fiona-1.8.21-cp37-cp37m-manylinux2014_x86_64.whl (16.7 MB)\n",
      "     |████████████████████████████████| 16.7 MB 7.1 MB/s            \n",
      "\u001b[?25hRequirement already satisfied: pyproj>=2.2.0 in /opt/conda/lib/python3.7/site-packages (from geopandas) (2.6.1.post1)\n",
      "Collecting munch\n",
      "  Downloading munch-2.5.0-py2.py3-none-any.whl (10 kB)\n",
      "Requirement already satisfied: certifi in /opt/conda/lib/python3.7/site-packages (from fiona>=1.8->geopandas) (2021.10.8)\n",
      "Requirement already satisfied: cligj>=0.5 in /opt/conda/lib/python3.7/site-packages (from fiona>=1.8->geopandas) (0.7.2)\n",
      "Requirement already satisfied: attrs>=17 in /opt/conda/lib/python3.7/site-packages (from fiona>=1.8->geopandas) (21.4.0)\n",
      "Requirement already satisfied: setuptools in /opt/conda/lib/python3.7/site-packages (from fiona>=1.8->geopandas) (41.4.0)\n",
      "Requirement already satisfied: click>=4.0 in /opt/conda/lib/python3.7/site-packages (from fiona>=1.8->geopandas) (8.1.2)\n",
      "Requirement already satisfied: six>=1.7 in /opt/conda/lib/python3.7/site-packages (from fiona>=1.8->geopandas) (1.16.0)\n",
      "Requirement already satisfied: click-plugins>=1.0 in /opt/conda/lib/python3.7/site-packages (from fiona>=1.8->geopandas) (1.1.1)\n",
      "Requirement already satisfied: pytz>=2017.3 in /opt/conda/lib/python3.7/site-packages (from pandas>=0.25.0->geopandas) (2022.1)\n",
      "Requirement already satisfied: python-dateutil>=2.7.3 in /opt/conda/lib/python3.7/site-packages (from pandas>=0.25.0->geopandas) (2.8.2)\n",
      "Requirement already satisfied: numpy>=1.17.3 in /opt/conda/lib/python3.7/site-packages (from pandas>=0.25.0->geopandas) (1.21.6)\n",
      "Requirement already satisfied: importlib-metadata in /opt/conda/lib/python3.7/site-packages (from click>=4.0->fiona>=1.8->geopandas) (4.11.3)\n",
      "Requirement already satisfied: zipp>=0.5 in /opt/conda/lib/python3.7/site-packages (from importlib-metadata->click>=4.0->fiona>=1.8->geopandas) (3.8.0)\n",
      "Requirement already satisfied: typing-extensions>=3.6.4 in /opt/conda/lib/python3.7/site-packages (from importlib-metadata->click>=4.0->fiona>=1.8->geopandas) (4.1.1)\n",
      "Installing collected packages: munch, fiona, geopandas\n",
      "Successfully installed fiona-1.8.21 geopandas-0.10.2 munch-2.5.0\n",
      "\u001b[33mWARNING: Running pip as the 'root' user can result in broken permissions and conflicting behaviour with the system package manager. It is recommended to use a virtual environment instead: https://pip.pypa.io/warnings/venv\u001b[0m\n",
      "\u001b[33mWARNING: You are using pip version 21.3.1; however, version 22.1.2 is available.\n",
      "You should consider upgrading via the '/opt/conda/bin/python -m pip install --upgrade pip' command.\u001b[0m\n"
     ]
    }
   ],
   "source": [
    "!pip install geopandas"
   ]
  },
  {
   "cell_type": "code",
   "execution_count": null,
   "id": "9376aec2-cf16-4991-b85d-eb98b88e7736",
   "metadata": {},
   "outputs": [],
   "source": [
    "from typing import (List, Tuple)\n",
    "import geopandas as gpd\n",
    "\n",
    "from shapely.geometry import Polygon\n",
    "\n",
    "from rastervision.core.box import Box\n",
    "from rastervision.core.data import (ClassConfig, CRSTransformer,\n",
    "                                    GeoJSONVectorSourceConfig, RasterioSource,\n",
    "                                    RasterizedSource, Scene,\n",
    "                                    SemanticSegmentationLabelSource)\n",
    "from rastervision.pytorch_learner import (\n",
    "    SemanticSegmentationGeoDataConfig, SemanticSegmentationLearner, \n",
    "    SemanticSegmentationSlidingWindowGeoDataset)\n"
   ]
  },
  {
   "cell_type": "code",
   "execution_count": null,
   "id": "5a4dd5cd-6444-4608-9ea0-47162ac163ad",
   "metadata": {},
   "outputs": [],
   "source": [
    "def label_tasks(task_grid_with_scores: gpd.GeoDataFrame, \n",
    "                n: int) -> Tuple[str, gpd.GeoDataFrame]:\n",
    "    pass"
   ]
  },
  {
   "cell_type": "code",
   "execution_count": null,
   "id": "1cb398e5-844d-4a5d-a547-06f42c7a657b",
   "metadata": {},
   "outputs": [],
   "source": [
    "def get_labeled_tasks(task_grid: gpd.GeoDataFrame) -> List[Polygon]:\n",
    "    pass"
   ]
  },
  {
   "cell_type": "code",
   "execution_count": null,
   "id": "2e38a4d4-8ff2-4735-9dd2-f4dbbbda79dc",
   "metadata": {},
   "outputs": [],
   "source": [
    "def get_img_info(uri: str) -> dict:\n",
    "    with open(uri, 'r') as f:\n",
    "        img_info = json.load(f)['results'][0]\n",
    "    return img_info\n",
    "\n",
    "def get_task_grid(uri: str) -> gpd.GeoDataFrame:\n",
    "    pass"
   ]
  },
  {
   "cell_type": "code",
   "execution_count": null,
   "id": "3e90ca6b-04e9-47ed-93e5-2c08e934cb01",
   "metadata": {},
   "outputs": [],
   "source": [
    "def make_scene(scene_id: str, \n",
    "               class_config: ClassConfig,\n",
    "               img_info: dict, \n",
    "               labels_uri: str, \n",
    "               aoi: List[Polygon]) -> Scene:\n",
    "    raster_source = make_raster_source(img_info)\n",
    "    \n",
    "    label_source = make_label_source(\n",
    "        labels_uri=labels_uri,\n",
    "        class_config=class_config,\n",
    "        extent=raster_source.get_extent(),\n",
    "        crs_transformer=raster_source.get_crs_transformer())\n",
    "    \n",
    "    scene = Scene(raster_source=raster_source, label_source=label_source)\n",
    "    return scene\n",
    "\n",
    "def make_raster_source(img_info: dict) -> RasterioSource:\n",
    "    img_uri = img_info['ingestLocation']\n",
    "    raster_source = RasterioSource(uris=[img_uri])\n",
    "    return raster_source\n",
    "\n",
    "def make_label_source(labels_uri: str,\n",
    "                      class_config: ClassConfig,\n",
    "                      extent: Box,\n",
    "                      crs_transformer: CRSTransformer\n",
    "                     ) -> SemanticSegmentationLabelSource:\n",
    "    geojson_cfg = GeoJSONVectorSourceConfig(uri=labels_uri,\n",
    "                                            default_class_id=1,\n",
    "                                            ignore_crs_field=True)\n",
    "    vector_source = geojson_cfg.build(class_config, crs_transformer)\n",
    "    \n",
    "    label_source = SemanticSegmentationLabelSource(\n",
    "        raster_source=RasterizedSource(\n",
    "            vector_source=vector_source, \n",
    "            background_class_id=0,\n",
    "            extent=extent,\n",
    "            crs_transformer=crs_transformer),\n",
    "        null_class_id=0)\n",
    "    return label_source"
   ]
  },
  {
   "cell_type": "code",
   "execution_count": null,
   "id": "1d627c94-4833-4767-a5fd-fb54b8788e7a",
   "metadata": {},
   "outputs": [],
   "source": [
    "def train(scene: Scene) -> SemanticSegmentationLearner:\n",
    "    pass"
   ]
  },
  {
   "cell_type": "code",
   "execution_count": null,
   "id": "67e49d0e-c9f4-4bc2-bb92-fd861aa23755",
   "metadata": {},
   "outputs": [],
   "source": [
    "def predict(learner: SemanticSegmentationLearner, \n",
    "            scene: Scene, \n",
    "            output_dir: str) -> None:\n",
    "    pass"
   ]
  },
  {
   "cell_type": "code",
   "execution_count": null,
   "id": "de789960-e75d-4646-b973-9e75180908f1",
   "metadata": {},
   "outputs": [],
   "source": [
    "def compute_priority_scores(task_grid: gpd.GeoDataFrame) -> gpd.GeoDataFrame:\n",
    "    pass"
   ]
  },
  {
   "cell_type": "code",
   "execution_count": null,
   "id": "22f1b714-734a-467f-a58b-6e838b575a1e",
   "metadata": {},
   "outputs": [],
   "source": [
    "def al_step(iter_num: int,\n",
    "            class_config: ClassConfig,\n",
    "            img_info_uri: str, \n",
    "            labels_uri: str, \n",
    "            task_grid: gpd.GeoDataFrame) -> gpd.GeoDataFrame:\n",
    "    labeled_regions = get_labeled_tasks(task_grid)\n",
    "    scene = make_scene(\n",
    "        scene_id=f'scene-iter-{iter_num}',\n",
    "        class_config=class_config,\n",
    "        img_info_uri=img_info_uri\n",
    "        labels_uri=labels_uri,\n",
    "        aoi=labeled_regions)\n",
    "    learner = train(scene)\n",
    "    pred_dir = f'preds-iter-{iter_num}'\n",
    "    predict(learner, scene, output_dir=pred_dir)\n",
    "    task_grid_with_scores = compute_priority_scores(task_grid)\n",
    "    return task_grid_with_scores"
   ]
  },
  {
   "cell_type": "code",
   "execution_count": null,
   "id": "c41a39c4-1883-49d6-863c-950504878df1",
   "metadata": {},
   "outputs": [],
   "source": [
    "def al_loop(niters: int, \n",
    "            class_config: ClassConfig,\n",
    "            img_info: dict, \n",
    "            task_grid: gpd.GeoDataFrame,\n",
    "            ntasks_per_iter: int) -> None:\n",
    "    for i in range(niters):\n",
    "        labels_uri, task_grid = label_tasks(task_grid, n=ntasks_per_iter)\n",
    "        task_grid = al_step(iter_num=i,\n",
    "                            img_info=img_info,\n",
    "                            labels_uri=labels_uri,\n",
    "                            task_grid=task_grid)"
   ]
  },
  {
   "cell_type": "code",
   "execution_count": null,
   "id": "302dc777-a293-4d07-b2d7-dc21d72c3c40",
   "metadata": {},
   "outputs": [],
   "source": [
    "img_info = get_img_info('')\n",
    "task_grid = get_task_grid('')\n",
    "\n",
    "al_loop(\n",
    "    niters=1,\n",
    "    class_config=class_config,\n",
    "    img_info=img_info, \n",
    "    task_grid=task_grid,\n",
    "    ntasks_per_iter=1)"
   ]
  }
 ],
 "metadata": {
  "kernelspec": {
   "display_name": "Python 3 (ipykernel)",
   "language": "python",
   "name": "python3"
  },
  "language_info": {
   "codemirror_mode": {
    "name": "ipython",
    "version": 3
   },
   "file_extension": ".py",
   "mimetype": "text/x-python",
   "name": "python",
   "nbconvert_exporter": "python",
   "pygments_lexer": "ipython3",
   "version": "3.7.7"
  }
 },
 "nbformat": 4,
 "nbformat_minor": 5
}
